{
  "nbformat": 4,
  "nbformat_minor": 0,
  "metadata": {
    "colab": {
      "provenance": [],
      "gpuType": "T4"
    },
    "kernelspec": {
      "name": "python3",
      "display_name": "Python 3"
    },
    "language_info": {
      "name": "python"
    },
    "accelerator": "GPU"
  },
  "cells": [
    {
      "cell_type": "code",
      "source": [
        "!pip install open3d"
      ],
      "metadata": {
        "colab": {
          "base_uri": "https://localhost:8080/"
        },
        "id": "SxVZXSqrf8cJ",
        "outputId": "f46de5e0-3486-4ab5-9388-7b617cd91109"
      },
      "execution_count": null,
      "outputs": [
        {
          "output_type": "stream",
          "name": "stdout",
          "text": [
            "Collecting open3d\n",
            "  Downloading open3d-0.19.0-cp311-cp311-manylinux_2_31_x86_64.whl.metadata (4.3 kB)\n",
            "Requirement already satisfied: numpy>=1.18.0 in /usr/local/lib/python3.11/dist-packages (from open3d) (1.26.4)\n",
            "Collecting dash>=2.6.0 (from open3d)\n",
            "  Downloading dash-2.18.2-py3-none-any.whl.metadata (10 kB)\n",
            "Requirement already satisfied: werkzeug>=3.0.0 in /usr/local/lib/python3.11/dist-packages (from open3d) (3.1.3)\n",
            "Requirement already satisfied: flask>=3.0.0 in /usr/local/lib/python3.11/dist-packages (from open3d) (3.1.0)\n",
            "Requirement already satisfied: nbformat>=5.7.0 in /usr/local/lib/python3.11/dist-packages (from open3d) (5.10.4)\n",
            "Collecting configargparse (from open3d)\n",
            "  Downloading ConfigArgParse-1.7-py3-none-any.whl.metadata (23 kB)\n",
            "Collecting ipywidgets>=8.0.4 (from open3d)\n",
            "  Downloading ipywidgets-8.1.5-py3-none-any.whl.metadata (2.3 kB)\n",
            "Collecting addict (from open3d)\n",
            "  Downloading addict-2.4.0-py3-none-any.whl.metadata (1.0 kB)\n",
            "Requirement already satisfied: pillow>=9.3.0 in /usr/local/lib/python3.11/dist-packages (from open3d) (11.1.0)\n",
            "Requirement already satisfied: matplotlib>=3 in /usr/local/lib/python3.11/dist-packages (from open3d) (3.10.0)\n",
            "Requirement already satisfied: pandas>=1.0 in /usr/local/lib/python3.11/dist-packages (from open3d) (2.2.2)\n",
            "Requirement already satisfied: pyyaml>=5.4.1 in /usr/local/lib/python3.11/dist-packages (from open3d) (6.0.2)\n",
            "Requirement already satisfied: scikit-learn>=0.21 in /usr/local/lib/python3.11/dist-packages (from open3d) (1.6.1)\n",
            "Requirement already satisfied: tqdm in /usr/local/lib/python3.11/dist-packages (from open3d) (4.67.1)\n",
            "Collecting pyquaternion (from open3d)\n",
            "  Downloading pyquaternion-0.9.9-py3-none-any.whl.metadata (1.4 kB)\n",
            "Collecting flask>=3.0.0 (from open3d)\n",
            "  Downloading flask-3.0.3-py3-none-any.whl.metadata (3.2 kB)\n",
            "Collecting werkzeug>=3.0.0 (from open3d)\n",
            "  Downloading werkzeug-3.0.6-py3-none-any.whl.metadata (3.7 kB)\n",
            "Requirement already satisfied: plotly>=5.0.0 in /usr/local/lib/python3.11/dist-packages (from dash>=2.6.0->open3d) (5.24.1)\n",
            "Collecting dash-html-components==2.0.0 (from dash>=2.6.0->open3d)\n",
            "  Downloading dash_html_components-2.0.0-py3-none-any.whl.metadata (3.8 kB)\n",
            "Collecting dash-core-components==2.0.0 (from dash>=2.6.0->open3d)\n",
            "  Downloading dash_core_components-2.0.0-py3-none-any.whl.metadata (2.9 kB)\n",
            "Collecting dash-table==5.0.0 (from dash>=2.6.0->open3d)\n",
            "  Downloading dash_table-5.0.0-py3-none-any.whl.metadata (2.4 kB)\n",
            "Requirement already satisfied: importlib-metadata in /usr/local/lib/python3.11/dist-packages (from dash>=2.6.0->open3d) (8.6.1)\n",
            "Requirement already satisfied: typing-extensions>=4.1.1 in /usr/local/lib/python3.11/dist-packages (from dash>=2.6.0->open3d) (4.12.2)\n",
            "Requirement already satisfied: requests in /usr/local/lib/python3.11/dist-packages (from dash>=2.6.0->open3d) (2.32.3)\n",
            "Collecting retrying (from dash>=2.6.0->open3d)\n",
            "  Downloading retrying-1.3.4-py3-none-any.whl.metadata (6.9 kB)\n",
            "Requirement already satisfied: nest-asyncio in /usr/local/lib/python3.11/dist-packages (from dash>=2.6.0->open3d) (1.6.0)\n",
            "Requirement already satisfied: setuptools in /usr/local/lib/python3.11/dist-packages (from dash>=2.6.0->open3d) (75.1.0)\n",
            "Requirement already satisfied: Jinja2>=3.1.2 in /usr/local/lib/python3.11/dist-packages (from flask>=3.0.0->open3d) (3.1.5)\n",
            "Requirement already satisfied: itsdangerous>=2.1.2 in /usr/local/lib/python3.11/dist-packages (from flask>=3.0.0->open3d) (2.2.0)\n",
            "Requirement already satisfied: click>=8.1.3 in /usr/local/lib/python3.11/dist-packages (from flask>=3.0.0->open3d) (8.1.8)\n",
            "Requirement already satisfied: blinker>=1.6.2 in /usr/local/lib/python3.11/dist-packages (from flask>=3.0.0->open3d) (1.9.0)\n",
            "Collecting comm>=0.1.3 (from ipywidgets>=8.0.4->open3d)\n",
            "  Downloading comm-0.2.2-py3-none-any.whl.metadata (3.7 kB)\n",
            "Requirement already satisfied: ipython>=6.1.0 in /usr/local/lib/python3.11/dist-packages (from ipywidgets>=8.0.4->open3d) (7.34.0)\n",
            "Requirement already satisfied: traitlets>=4.3.1 in /usr/local/lib/python3.11/dist-packages (from ipywidgets>=8.0.4->open3d) (5.7.1)\n",
            "Collecting widgetsnbextension~=4.0.12 (from ipywidgets>=8.0.4->open3d)\n",
            "  Downloading widgetsnbextension-4.0.13-py3-none-any.whl.metadata (1.6 kB)\n",
            "Requirement already satisfied: jupyterlab-widgets~=3.0.12 in /usr/local/lib/python3.11/dist-packages (from ipywidgets>=8.0.4->open3d) (3.0.13)\n",
            "Requirement already satisfied: contourpy>=1.0.1 in /usr/local/lib/python3.11/dist-packages (from matplotlib>=3->open3d) (1.3.1)\n",
            "Requirement already satisfied: cycler>=0.10 in /usr/local/lib/python3.11/dist-packages (from matplotlib>=3->open3d) (0.12.1)\n",
            "Requirement already satisfied: fonttools>=4.22.0 in /usr/local/lib/python3.11/dist-packages (from matplotlib>=3->open3d) (4.56.0)\n",
            "Requirement already satisfied: kiwisolver>=1.3.1 in /usr/local/lib/python3.11/dist-packages (from matplotlib>=3->open3d) (1.4.8)\n",
            "Requirement already satisfied: packaging>=20.0 in /usr/local/lib/python3.11/dist-packages (from matplotlib>=3->open3d) (24.2)\n",
            "Requirement already satisfied: pyparsing>=2.3.1 in /usr/local/lib/python3.11/dist-packages (from matplotlib>=3->open3d) (3.2.1)\n",
            "Requirement already satisfied: python-dateutil>=2.7 in /usr/local/lib/python3.11/dist-packages (from matplotlib>=3->open3d) (2.8.2)\n",
            "Requirement already satisfied: fastjsonschema>=2.15 in /usr/local/lib/python3.11/dist-packages (from nbformat>=5.7.0->open3d) (2.21.1)\n",
            "Requirement already satisfied: jsonschema>=2.6 in /usr/local/lib/python3.11/dist-packages (from nbformat>=5.7.0->open3d) (4.23.0)\n",
            "Requirement already satisfied: jupyter-core!=5.0.*,>=4.12 in /usr/local/lib/python3.11/dist-packages (from nbformat>=5.7.0->open3d) (5.7.2)\n",
            "Requirement already satisfied: pytz>=2020.1 in /usr/local/lib/python3.11/dist-packages (from pandas>=1.0->open3d) (2025.1)\n",
            "Requirement already satisfied: tzdata>=2022.7 in /usr/local/lib/python3.11/dist-packages (from pandas>=1.0->open3d) (2025.1)\n",
            "Requirement already satisfied: scipy>=1.6.0 in /usr/local/lib/python3.11/dist-packages (from scikit-learn>=0.21->open3d) (1.13.1)\n",
            "Requirement already satisfied: joblib>=1.2.0 in /usr/local/lib/python3.11/dist-packages (from scikit-learn>=0.21->open3d) (1.4.2)\n",
            "Requirement already satisfied: threadpoolctl>=3.1.0 in /usr/local/lib/python3.11/dist-packages (from scikit-learn>=0.21->open3d) (3.5.0)\n",
            "Requirement already satisfied: MarkupSafe>=2.1.1 in /usr/local/lib/python3.11/dist-packages (from werkzeug>=3.0.0->open3d) (3.0.2)\n",
            "Collecting jedi>=0.16 (from ipython>=6.1.0->ipywidgets>=8.0.4->open3d)\n",
            "  Downloading jedi-0.19.2-py2.py3-none-any.whl.metadata (22 kB)\n",
            "Requirement already satisfied: decorator in /usr/local/lib/python3.11/dist-packages (from ipython>=6.1.0->ipywidgets>=8.0.4->open3d) (4.4.2)\n",
            "Requirement already satisfied: pickleshare in /usr/local/lib/python3.11/dist-packages (from ipython>=6.1.0->ipywidgets>=8.0.4->open3d) (0.7.5)\n",
            "Requirement already satisfied: prompt-toolkit!=3.0.0,!=3.0.1,<3.1.0,>=2.0.0 in /usr/local/lib/python3.11/dist-packages (from ipython>=6.1.0->ipywidgets>=8.0.4->open3d) (3.0.50)\n",
            "Requirement already satisfied: pygments in /usr/local/lib/python3.11/dist-packages (from ipython>=6.1.0->ipywidgets>=8.0.4->open3d) (2.18.0)\n",
            "Requirement already satisfied: backcall in /usr/local/lib/python3.11/dist-packages (from ipython>=6.1.0->ipywidgets>=8.0.4->open3d) (0.2.0)\n",
            "Requirement already satisfied: matplotlib-inline in /usr/local/lib/python3.11/dist-packages (from ipython>=6.1.0->ipywidgets>=8.0.4->open3d) (0.1.7)\n",
            "Requirement already satisfied: pexpect>4.3 in /usr/local/lib/python3.11/dist-packages (from ipython>=6.1.0->ipywidgets>=8.0.4->open3d) (4.9.0)\n",
            "Requirement already satisfied: attrs>=22.2.0 in /usr/local/lib/python3.11/dist-packages (from jsonschema>=2.6->nbformat>=5.7.0->open3d) (25.1.0)\n",
            "Requirement already satisfied: jsonschema-specifications>=2023.03.6 in /usr/local/lib/python3.11/dist-packages (from jsonschema>=2.6->nbformat>=5.7.0->open3d) (2024.10.1)\n",
            "Requirement already satisfied: referencing>=0.28.4 in /usr/local/lib/python3.11/dist-packages (from jsonschema>=2.6->nbformat>=5.7.0->open3d) (0.36.2)\n",
            "Requirement already satisfied: rpds-py>=0.7.1 in /usr/local/lib/python3.11/dist-packages (from jsonschema>=2.6->nbformat>=5.7.0->open3d) (0.22.3)\n",
            "Requirement already satisfied: platformdirs>=2.5 in /usr/local/lib/python3.11/dist-packages (from jupyter-core!=5.0.*,>=4.12->nbformat>=5.7.0->open3d) (4.3.6)\n",
            "Requirement already satisfied: tenacity>=6.2.0 in /usr/local/lib/python3.11/dist-packages (from plotly>=5.0.0->dash>=2.6.0->open3d) (9.0.0)\n",
            "Requirement already satisfied: six>=1.5 in /usr/local/lib/python3.11/dist-packages (from python-dateutil>=2.7->matplotlib>=3->open3d) (1.17.0)\n",
            "Requirement already satisfied: zipp>=3.20 in /usr/local/lib/python3.11/dist-packages (from importlib-metadata->dash>=2.6.0->open3d) (3.21.0)\n",
            "Requirement already satisfied: charset-normalizer<4,>=2 in /usr/local/lib/python3.11/dist-packages (from requests->dash>=2.6.0->open3d) (3.4.1)\n",
            "Requirement already satisfied: idna<4,>=2.5 in /usr/local/lib/python3.11/dist-packages (from requests->dash>=2.6.0->open3d) (3.10)\n",
            "Requirement already satisfied: urllib3<3,>=1.21.1 in /usr/local/lib/python3.11/dist-packages (from requests->dash>=2.6.0->open3d) (2.3.0)\n",
            "Requirement already satisfied: certifi>=2017.4.17 in /usr/local/lib/python3.11/dist-packages (from requests->dash>=2.6.0->open3d) (2025.1.31)\n",
            "Requirement already satisfied: parso<0.9.0,>=0.8.4 in /usr/local/lib/python3.11/dist-packages (from jedi>=0.16->ipython>=6.1.0->ipywidgets>=8.0.4->open3d) (0.8.4)\n",
            "Requirement already satisfied: ptyprocess>=0.5 in /usr/local/lib/python3.11/dist-packages (from pexpect>4.3->ipython>=6.1.0->ipywidgets>=8.0.4->open3d) (0.7.0)\n",
            "Requirement already satisfied: wcwidth in /usr/local/lib/python3.11/dist-packages (from prompt-toolkit!=3.0.0,!=3.0.1,<3.1.0,>=2.0.0->ipython>=6.1.0->ipywidgets>=8.0.4->open3d) (0.2.13)\n",
            "Downloading open3d-0.19.0-cp311-cp311-manylinux_2_31_x86_64.whl (447.7 MB)\n",
            "\u001b[2K   \u001b[90m━━━━━━━━━━━━━━━━━━━━━━━━━━━━━━━━━━━━━━━━\u001b[0m \u001b[32m447.7/447.7 MB\u001b[0m \u001b[31m4.2 MB/s\u001b[0m eta \u001b[36m0:00:00\u001b[0m\n",
            "\u001b[?25hDownloading dash-2.18.2-py3-none-any.whl (7.8 MB)\n",
            "\u001b[2K   \u001b[90m━━━━━━━━━━━━━━━━━━━━━━━━━━━━━━━━━━━━━━━━\u001b[0m \u001b[32m7.8/7.8 MB\u001b[0m \u001b[31m76.4 MB/s\u001b[0m eta \u001b[36m0:00:00\u001b[0m\n",
            "\u001b[?25hDownloading dash_core_components-2.0.0-py3-none-any.whl (3.8 kB)\n",
            "Downloading dash_html_components-2.0.0-py3-none-any.whl (4.1 kB)\n",
            "Downloading dash_table-5.0.0-py3-none-any.whl (3.9 kB)\n",
            "Downloading flask-3.0.3-py3-none-any.whl (101 kB)\n",
            "\u001b[2K   \u001b[90m━━━━━━━━━━━━━━━━━━━━━━━━━━━━━━━━━━━━━━━━\u001b[0m \u001b[32m101.7/101.7 kB\u001b[0m \u001b[31m9.9 MB/s\u001b[0m eta \u001b[36m0:00:00\u001b[0m\n",
            "\u001b[?25hDownloading ipywidgets-8.1.5-py3-none-any.whl (139 kB)\n",
            "\u001b[2K   \u001b[90m━━━━━━━━━━━━━━━━━━━━━━━━━━━━━━━━━━━━━━━━\u001b[0m \u001b[32m139.8/139.8 kB\u001b[0m \u001b[31m13.3 MB/s\u001b[0m eta \u001b[36m0:00:00\u001b[0m\n",
            "\u001b[?25hDownloading werkzeug-3.0.6-py3-none-any.whl (227 kB)\n",
            "\u001b[2K   \u001b[90m━━━━━━━━━━━━━━━━━━━━━━━━━━━━━━━━━━━━━━━━\u001b[0m \u001b[32m228.0/228.0 kB\u001b[0m \u001b[31m20.9 MB/s\u001b[0m eta \u001b[36m0:00:00\u001b[0m\n",
            "\u001b[?25hDownloading addict-2.4.0-py3-none-any.whl (3.8 kB)\n",
            "Downloading ConfigArgParse-1.7-py3-none-any.whl (25 kB)\n",
            "Downloading pyquaternion-0.9.9-py3-none-any.whl (14 kB)\n",
            "Downloading comm-0.2.2-py3-none-any.whl (7.2 kB)\n",
            "Downloading widgetsnbextension-4.0.13-py3-none-any.whl (2.3 MB)\n",
            "\u001b[2K   \u001b[90m━━━━━━━━━━━━━━━━━━━━━━━━━━━━━━━━━━━━━━━━\u001b[0m \u001b[32m2.3/2.3 MB\u001b[0m \u001b[31m94.8 MB/s\u001b[0m eta \u001b[36m0:00:00\u001b[0m\n",
            "\u001b[?25hDownloading retrying-1.3.4-py3-none-any.whl (11 kB)\n",
            "Downloading jedi-0.19.2-py2.py3-none-any.whl (1.6 MB)\n",
            "\u001b[2K   \u001b[90m━━━━━━━━━━━━━━━━━━━━━━━━━━━━━━━━━━━━━━━━\u001b[0m \u001b[32m1.6/1.6 MB\u001b[0m \u001b[31m79.9 MB/s\u001b[0m eta \u001b[36m0:00:00\u001b[0m\n",
            "\u001b[?25hInstalling collected packages: dash-table, dash-html-components, dash-core-components, addict, widgetsnbextension, werkzeug, retrying, pyquaternion, jedi, configargparse, comm, flask, ipywidgets, dash, open3d\n",
            "  Attempting uninstall: widgetsnbextension\n",
            "    Found existing installation: widgetsnbextension 3.6.10\n",
            "    Uninstalling widgetsnbextension-3.6.10:\n",
            "      Successfully uninstalled widgetsnbextension-3.6.10\n",
            "  Attempting uninstall: werkzeug\n",
            "    Found existing installation: Werkzeug 3.1.3\n",
            "    Uninstalling Werkzeug-3.1.3:\n",
            "      Successfully uninstalled Werkzeug-3.1.3\n",
            "  Attempting uninstall: flask\n",
            "    Found existing installation: Flask 3.1.0\n",
            "    Uninstalling Flask-3.1.0:\n",
            "      Successfully uninstalled Flask-3.1.0\n",
            "  Attempting uninstall: ipywidgets\n",
            "    Found existing installation: ipywidgets 7.7.1\n",
            "    Uninstalling ipywidgets-7.7.1:\n",
            "      Successfully uninstalled ipywidgets-7.7.1\n",
            "Successfully installed addict-2.4.0 comm-0.2.2 configargparse-1.7 dash-2.18.2 dash-core-components-2.0.0 dash-html-components-2.0.0 dash-table-5.0.0 flask-3.0.3 ipywidgets-8.1.5 jedi-0.19.2 open3d-0.19.0 pyquaternion-0.9.9 retrying-1.3.4 werkzeug-3.0.6 widgetsnbextension-4.0.13\n"
          ]
        }
      ]
    },
    {
      "cell_type": "code",
      "source": [
        "import numpy as np\n",
        "import cv2\n",
        "import open3d as o3d\n",
        "from tqdm import tqdm\n",
        "import os\n",
        "from typing import Tuple, Optional"
      ],
      "metadata": {
        "id": "jpwIZzUFfo5q"
      },
      "execution_count": null,
      "outputs": []
    },
    {
      "cell_type": "code",
      "execution_count": null,
      "metadata": {
        "id": "Ru-nPERYe7NG"
      },
      "outputs": [],
      "source": [
        "# depth value를 z value로 mapping\n",
        "def map_depth_map_to_point_clouds(depth_map: np.ndarray, step_size: int = 1) -> np.ndarray:\n",
        "    H, W = depth_map.shape[:2]\n",
        "    yy, xx = np.meshgrid(range(W), range(H))\n",
        "\n",
        "    vertices = np.zeros((H, W, 3))\n",
        "    vertices[..., 1] = xx * step_size\n",
        "    vertices[..., 0] = yy * step_size\n",
        "    vertices[..., 2] = depth_map\n",
        "\n",
        "    return vertices\n",
        "\n",
        "# 이미지 이동 함수들\n",
        "def move_left(mask: np.ndarray) -> np.ndarray:\n",
        "    return np.pad(mask, ((0,0),(0,1)), 'constant', constant_values=0)[:, 1:]\n",
        "\n",
        "def move_top_right(mask: np.ndarray) -> np.ndarray:\n",
        "    return np.pad(mask, ((0,1),(1,0)), 'constant', constant_values=0)[1:, :-1]\n",
        "\n",
        "def move_top(mask: np.ndarray) -> np.ndarray:\n",
        "    return np.pad(mask, ((1,0), (0,0)), 'constant', constant_values=0)[:-1, :]\n",
        "\n",
        "def move_top_left(mask: np.ndarray) -> np.ndarray:\n",
        "    return np.pad(mask, ((1,0), (1,0)), 'constant', constant_values=0)[:-1, :-1]\n",
        "\n",
        "def move_right(mask: np.ndarray) -> np.ndarray:\n",
        "    return np.pad(mask, ((0,0), (1,0)), 'constant', constant_values=0)[:, :-1]\n",
        "\n",
        "def move_bottom(mask: np.ndarray) -> np.ndarray:\n",
        "    return np.pad(mask, ((0,1), (0,0)), 'constant', constant_values=0)[1:, :]\n",
        "\n",
        "def move_bottom_right(mask: np.ndarray) -> np.ndarray:\n",
        "    return np.pad(mask, ((0,1), (0,1)), 'constant', constant_values=0)[1:, 1:]\n",
        "\n",
        "# image pixel 하나를 face 하나로 정의\n",
        "def construct_facets_from(mask: np.ndarray) -> np.ndarray:\n",
        "    idx = np.zeros_like(mask, dtype=int)\n",
        "    idx[mask] = np.arange(np.sum(mask))\n",
        "\n",
        "    facet_move_top_mask = move_top(mask)\n",
        "    facet_move_left_mask = move_left(mask)\n",
        "    facet_move_top_left_mask = move_top_left(mask)\n",
        "    facet_top_left_mask = np.logical_and.reduce((facet_move_top_mask, facet_move_left_mask, facet_move_top_left_mask, mask))\n",
        "\n",
        "    facet_top_right_mask = move_right(facet_top_left_mask)\n",
        "    facet_bottom_left_mask = move_bottom(facet_top_left_mask)\n",
        "    facet_bottom_right_mask = move_bottom_right(facet_top_left_mask)\n",
        "\n",
        "    return np.stack((\n",
        "        4 * np.ones(np.sum(facet_top_left_mask)),\n",
        "        idx[facet_top_left_mask],\n",
        "        idx[facet_bottom_left_mask],\n",
        "        idx[facet_bottom_right_mask],\n",
        "        idx[facet_top_right_mask]\n",
        "    ), axis=-1).astype(int)\n",
        "\n",
        "# depthmap npy 파일을 읽어 vertex, face 를 return\n",
        "def get_mesh_from_depth(outname: str, scale: Optional[float] = None) -> Tuple[np.ndarray, np.ndarray]:\n",
        "    # depth_map_path = os.path.join(\"./depth_to_textured_mesh\", f\"{outname}_depth_fp32.npy\")\n",
        "    depth_map_path = os.path.join(\"/content/drive/MyDrive/KU/AIKU/24-겨울/marigold/depth_to_textured_mesh\", f\"{outname}.npy\")\n",
        "    depth_map = np.load(depth_map_path)\n",
        "\n",
        "    if scale is None:\n",
        "        scale = np.sqrt(depth_map.shape[0] * depth_map.shape[1])\n",
        "\n",
        "    vertices = map_depth_map_to_point_clouds((1 - depth_map) * scale)\n",
        "    facets = construct_facets_from(np.ones(depth_map.shape, dtype=bool))\n",
        "\n",
        "    faces = []\n",
        "    with tqdm(facets, desc=\"[Info] Constructing triangular faces\") as pbar:\n",
        "        for face in pbar:\n",
        "            _, v1, v2, v3, v4 = face\n",
        "            faces.append([3, v1, v2, v3])\n",
        "            faces.append([3, v1, v3, v4])\n",
        "\n",
        "    faces = np.array(faces)\n",
        "    return vertices, faces\n",
        "\n",
        "# Textured mesh 생성\n",
        "def make_textured_mesh(outname: str, scale: Optional[float] = None) -> o3d.geometry.TriangleMesh:\n",
        "    # texture_path = os.path.join(\"./depth_to_textured_mesh\", f\"{outname}.jpeg\")\n",
        "    texture_path = os.path.join(\"/content/drive/MyDrive/KU/AIKU/24-겨울/marigold/depth_to_textured_mesh\", f\"{outname}.jpeg\")\n",
        "    textures = cv2.imread(texture_path)\n",
        "    textures = cv2.cvtColor(textures, cv2.COLOR_BGR2RGB)\n",
        "    textures = textures / 255.0\n",
        "\n",
        "    vertices, faces = get_mesh_from_depth(outname, scale)\n",
        "\n",
        "    mesh = o3d.geometry.TriangleMesh()\n",
        "    mesh.vertices = o3d.utility.Vector3dVector(vertices.reshape(-1, 3))\n",
        "    mesh.triangles = o3d.utility.Vector3iVector(faces[:, 1:])\n",
        "    mesh.vertex_colors = o3d.utility.Vector3dVector(textures.reshape(-1, 3))\n",
        "\n",
        "    output_path = os.path.join(\"./depth_to_textured_mesh/test\", f\"{outname}_textured_mesh.ply\")\n",
        "    o3d.io.write_triangle_mesh(output_path, mesh)\n",
        "\n",
        "    return mesh"
      ]
    },
    {
      "cell_type": "code",
      "source": [
        "cd /content/drive/MyDrive/KU/AIKU/24-겨울/marigold"
      ],
      "metadata": {
        "colab": {
          "base_uri": "https://localhost:8080/"
        },
        "id": "FDi3yQXogdCH",
        "outputId": "777e99e5-878d-4c16-ec6d-d7f54f0faf6e"
      },
      "execution_count": null,
      "outputs": [
        {
          "output_type": "stream",
          "name": "stdout",
          "text": [
            "/content/drive/MyDrive/KU/AIKU/24-겨울/marigold\n"
          ]
        }
      ]
    },
    {
      "cell_type": "code",
      "source": [
        "def main():\n",
        "    outname = \"output1_pred\"  # 변환할 파일 이름 (확장자 제외)\n",
        "    scale = None  # 필요하면 스케일 조정 가능\n",
        "\n",
        "    # 필요한 디렉토리 생성\n",
        "    output_dir = \"./depth_to_textured_mesh/test\"\n",
        "    os.makedirs(output_dir, exist_ok=True)\n",
        "\n",
        "    try:\n",
        "        print(\"[Info] Generating 3D mesh from depth map...\")\n",
        "        mesh = make_textured_mesh(outname, scale)\n",
        "        print(f\"[Success] Mesh saved at {output_dir}/{outname}_textured_mesh.ply\")\n",
        "\n",
        "        # Open3D를 사용하여 생성된 Mesh를 시각화\n",
        "        o3d.visualization.draw_geometries([mesh])\n",
        "\n",
        "    except Exception as e:\n",
        "        print(f\"[Error] {e}\")\n",
        "\n",
        "if __name__ == \"__main__\":\n",
        "    main()"
      ],
      "metadata": {
        "colab": {
          "base_uri": "https://localhost:8080/"
        },
        "id": "oTLnHchBfpD4",
        "outputId": "e780c3c7-af2a-4f4d-fca7-43b19f801381"
      },
      "execution_count": null,
      "outputs": [
        {
          "output_type": "stream",
          "name": "stdout",
          "text": [
            "[Info] Generating 3D mesh from depth map...\n"
          ]
        },
        {
          "output_type": "stream",
          "name": "stderr",
          "text": [
            "[Info] Constructing triangular faces: 100%|██████████| 64770/64770 [00:00<00:00, 210683.07it/s]\n"
          ]
        },
        {
          "output_type": "stream",
          "name": "stdout",
          "text": [
            "[Success] Mesh saved at ./depth_to_textured_mesh/test/output1_pred_textured_mesh.ply\n",
            "\u001b[1;33m[Open3D WARNING] GLFW Error: Failed to detect any supported platform\u001b[0;m\n",
            "\u001b[1;33m[Open3D WARNING] GLFW initialized for headless rendering.\u001b[0;m\n",
            "\u001b[1;33m[Open3D WARNING] GLFW Error: OSMesa: Library not found\u001b[0;m\n",
            "\u001b[1;33m[Open3D WARNING] Failed to create window\u001b[0;m\n",
            "\u001b[1;33m[Open3D WARNING] [DrawGeometries] Failed creating OpenGL window.\u001b[0;m\n"
          ]
        }
      ]
    },
    {
      "cell_type": "code",
      "source": [
        "# import open3d as o3d\n",
        "\n",
        "# # PLY 파일 경로\n",
        "# ply_file = \"./depth_to_textured_mesh/test/example_3_pred_textured_mesh.ply\"\n",
        "\n",
        "# # PLY 파일 읽기\n",
        "# mesh = o3d.io.read_triangle_mesh(ply_file)\n",
        "\n",
        "# # mesh가 정상적으로 로드되었는지 확인\n",
        "# if not mesh.is_empty():\n",
        "#     print(\"Mesh loaded successfully!\")\n",
        "\n",
        "#     # 메시 시각화\n",
        "#     o3d.visualization.draw_geometries([mesh])\n",
        "# else:\n",
        "#     print(\"Failed to load mesh.\")"
      ],
      "metadata": {
        "colab": {
          "base_uri": "https://localhost:8080/"
        },
        "id": "CO86AbRqgf2X",
        "outputId": "c585888c-3bcb-4d8c-e755-a2a0aa5af141"
      },
      "execution_count": null,
      "outputs": [
        {
          "output_type": "stream",
          "name": "stdout",
          "text": [
            "Mesh loaded successfully!\n",
            "\u001b[1;33m[Open3D WARNING] GLFW initialized for headless rendering.\u001b[0;m\n",
            "\u001b[1;33m[Open3D WARNING] GLFW Error: OSMesa: Library not found\u001b[0;m\n",
            "\u001b[1;33m[Open3D WARNING] Failed to create window\u001b[0;m\n",
            "\u001b[1;33m[Open3D WARNING] [DrawGeometries] Failed creating OpenGL window.\u001b[0;m\n"
          ]
        }
      ]
    },
    {
      "cell_type": "code",
      "source": [
        "import open3d as o3d\n",
        "import matplotlib.pyplot as plt\n",
        "import numpy as np\n",
        "\n",
        "# PLY 파일 경로\n",
        "ply_file = \"/content/drive/MyDrive/KU/AIKU/24-겨울/output_folders/depth_to_textured_mesh/test/example_3_pred_textured_mesh.ply\"\n",
        "\n",
        "# PLY 파일 읽기\n",
        "mesh = o3d.io.read_triangle_mesh(ply_file)\n",
        "\n",
        "# Mesh가 정상적으로 로드되었는지 확인\n",
        "if not mesh.is_empty():\n",
        "    print(\"Mesh loaded successfully!\")\n",
        "\n",
        "    # Open3D를 사용하여 이미지를 렌더링\n",
        "    vis = o3d.visualization.Visualizer()\n",
        "    vis.create_window(visible=False)  # 화면에 창을 띄우지 않음\n",
        "    vis.add_geometry(mesh)\n",
        "\n",
        "    # 이미지를 렌더링하여 numpy 배열로 저장\n",
        "    vis.poll_events()\n",
        "    vis.update_renderer()\n",
        "    image = vis.capture_screen_float_buffer(False)\n",
        "\n",
        "    # 이미지를 Matplotlib로 출력\n",
        "    plt.imshow(np.asarray(image))\n",
        "    plt.axis('off')  # 축을 없애기\n",
        "    plt.show()\n",
        "\n",
        "    vis.destroy_window()  # 렌더링 종료\n",
        "else:\n",
        "    print(\"Failed to load mesh.\")"
      ],
      "metadata": {
        "id": "3hdb4izrivBs"
      },
      "execution_count": null,
      "outputs": []
    },
    {
      "cell_type": "code",
      "source": [],
      "metadata": {
        "id": "fzSUXv-Mi7ak"
      },
      "execution_count": null,
      "outputs": []
    }
  ]
}